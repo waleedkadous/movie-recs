{
 "cells": [
  {
   "cell_type": "code",
   "execution_count": 5,
   "id": "efee53a5-d637-4a16-a5ab-d5aa63159299",
   "metadata": {},
   "outputs": [
    {
     "name": "stdout",
     "output_type": "stream",
     "text": [
      "Looking in indexes: https://pypi.org/simple, https://pip.repos.neuron.amazonaws.com\n",
      "Collecting ray==3.0.0.dev0\n",
      "  Downloading https://s3-us-west-2.amazonaws.com/ray-wheels/latest/ray-3.0.0.dev0-cp38-cp38-manylinux2014_x86_64.whl (54.9 MB)\n",
      "\u001b[2K     \u001b[90m━━━━━━━━━━━━━━━━━━━━━━━━━━━━━━━━━━━━━━━━\u001b[0m \u001b[32m54.9/54.9 MB\u001b[0m \u001b[31m32.5 MB/s\u001b[0m eta \u001b[36m0:00:00\u001b[0m00:01\u001b[0m00:01\u001b[0m\n",
      "\u001b[?25hRequirement already satisfied: filelock in /home/ec2-user/anaconda3/envs/pytorch_p38/lib/python3.8/site-packages (from ray==3.0.0.dev0) (3.4.0)\n",
      "Requirement already satisfied: pyyaml in /home/ec2-user/anaconda3/envs/pytorch_p38/lib/python3.8/site-packages (from ray==3.0.0.dev0) (5.4.1)\n",
      "Requirement already satisfied: aiosignal in /home/ec2-user/anaconda3/envs/pytorch_p38/lib/python3.8/site-packages (from ray==3.0.0.dev0) (1.2.0)\n",
      "Requirement already satisfied: attrs in /home/ec2-user/anaconda3/envs/pytorch_p38/lib/python3.8/site-packages (from ray==3.0.0.dev0) (20.3.0)\n",
      "Requirement already satisfied: requests in /home/ec2-user/anaconda3/envs/pytorch_p38/lib/python3.8/site-packages (from ray==3.0.0.dev0) (2.26.0)\n",
      "Requirement already satisfied: click<=8.0.4,>=7.0 in /home/ec2-user/anaconda3/envs/pytorch_p38/lib/python3.8/site-packages (from ray==3.0.0.dev0) (8.0.3)\n",
      "Requirement already satisfied: protobuf<4.0.0,>=3.15.3 in /home/ec2-user/anaconda3/envs/pytorch_p38/lib/python3.8/site-packages (from ray==3.0.0.dev0) (3.19.4)\n",
      "Collecting grpcio<=1.43.0,>=1.28.1\n",
      "  Downloading grpcio-1.43.0-cp38-cp38-manylinux_2_17_x86_64.manylinux2014_x86_64.whl (4.1 MB)\n",
      "\u001b[2K     \u001b[90m━━━━━━━━━━━━━━━━━━━━━━━━━━━━━━━━━━━━━━━━\u001b[0m \u001b[32m4.1/4.1 MB\u001b[0m \u001b[31m54.3 MB/s\u001b[0m eta \u001b[36m0:00:00\u001b[0m:00:01\u001b[0m\n",
      "\u001b[?25hRequirement already satisfied: jsonschema in /home/ec2-user/anaconda3/envs/pytorch_p38/lib/python3.8/site-packages (from ray==3.0.0.dev0) (3.2.0)\n",
      "Requirement already satisfied: msgpack<2.0.0,>=1.0.0 in /home/ec2-user/anaconda3/envs/pytorch_p38/lib/python3.8/site-packages (from ray==3.0.0.dev0) (1.0.3)\n",
      "Requirement already satisfied: frozenlist in /home/ec2-user/anaconda3/envs/pytorch_p38/lib/python3.8/site-packages (from ray==3.0.0.dev0) (1.2.0)\n",
      "Requirement already satisfied: numpy>=1.16 in /home/ec2-user/anaconda3/envs/pytorch_p38/lib/python3.8/site-packages (from ray==3.0.0.dev0) (1.21.2)\n",
      "Collecting virtualenv\n",
      "  Using cached virtualenv-20.15.1-py2.py3-none-any.whl (10.1 MB)\n",
      "Requirement already satisfied: six>=1.5.2 in /home/ec2-user/anaconda3/envs/pytorch_p38/lib/python3.8/site-packages (from grpcio<=1.43.0,>=1.28.1->ray==3.0.0.dev0) (1.16.0)\n",
      "Requirement already satisfied: setuptools in /home/ec2-user/anaconda3/envs/pytorch_p38/lib/python3.8/site-packages (from jsonschema->ray==3.0.0.dev0) (59.2.0)\n",
      "Requirement already satisfied: pyrsistent>=0.14.0 in /home/ec2-user/anaconda3/envs/pytorch_p38/lib/python3.8/site-packages (from jsonschema->ray==3.0.0.dev0) (0.18.0)\n",
      "Requirement already satisfied: certifi>=2017.4.17 in /home/ec2-user/anaconda3/envs/pytorch_p38/lib/python3.8/site-packages (from requests->ray==3.0.0.dev0) (2021.10.8)\n",
      "Requirement already satisfied: charset-normalizer~=2.0.0 in /home/ec2-user/anaconda3/envs/pytorch_p38/lib/python3.8/site-packages (from requests->ray==3.0.0.dev0) (2.0.7)\n",
      "Requirement already satisfied: urllib3<1.27,>=1.21.1 in /home/ec2-user/anaconda3/envs/pytorch_p38/lib/python3.8/site-packages (from requests->ray==3.0.0.dev0) (1.26.8)\n",
      "Requirement already satisfied: idna<4,>=2.5 in /home/ec2-user/anaconda3/envs/pytorch_p38/lib/python3.8/site-packages (from requests->ray==3.0.0.dev0) (3.1)\n",
      "Collecting distlib<1,>=0.3.1\n",
      "  Using cached distlib-0.3.5-py2.py3-none-any.whl (466 kB)\n",
      "Requirement already satisfied: platformdirs<3,>=2 in /home/ec2-user/anaconda3/envs/pytorch_p38/lib/python3.8/site-packages (from virtualenv->ray==3.0.0.dev0) (2.3.0)\n",
      "Installing collected packages: distlib, virtualenv, grpcio, ray\n",
      "Successfully installed distlib-0.3.5 grpcio-1.43.0 ray-3.0.0.dev0 virtualenv-20.15.1\n",
      "\u001b[33mWARNING: You are using pip version 22.0.4; however, version 22.1.2 is available.\n",
      "You should consider upgrading via the '/home/ec2-user/anaconda3/envs/pytorch_p38/bin/python -m pip install --upgrade pip' command.\u001b[0m\u001b[33m\n",
      "\u001b[0m"
     ]
    }
   ],
   "source": [
    "!pip install -U https://s3-us-west-2.amazonaws.com/ray-wheels/latest/ray-3.0.0.dev0-cp38-cp38-manylinux2014_x86_64.whl"
   ]
  },
  {
   "cell_type": "code",
   "execution_count": 6,
   "id": "883ae771-fda8-4abf-9016-51199544db09",
   "metadata": {},
   "outputs": [
    {
     "name": "stdout",
     "output_type": "stream",
     "text": [
      "Looking in indexes: https://pypi.org/simple, https://pip.repos.neuron.amazonaws.com\n",
      "Requirement already satisfied: torch in /home/ec2-user/anaconda3/envs/pytorch_p38/lib/python3.8/site-packages (1.10.0)\n",
      "Requirement already satisfied: torchvision in /home/ec2-user/anaconda3/envs/pytorch_p38/lib/python3.8/site-packages (0.11.1)\n",
      "Requirement already satisfied: typing_extensions in /home/ec2-user/anaconda3/envs/pytorch_p38/lib/python3.8/site-packages (from torch) (4.0.0)\n",
      "Requirement already satisfied: numpy in /home/ec2-user/anaconda3/envs/pytorch_p38/lib/python3.8/site-packages (from torchvision) (1.21.2)\n",
      "Requirement already satisfied: pillow!=8.3.0,>=5.3.0 in /home/ec2-user/anaconda3/envs/pytorch_p38/lib/python3.8/site-packages (from torchvision) (9.0.1)\n",
      "\u001b[33mWARNING: You are using pip version 22.0.4; however, version 22.1.2 is available.\n",
      "You should consider upgrading via the '/home/ec2-user/anaconda3/envs/pytorch_p38/bin/python -m pip install --upgrade pip' command.\u001b[0m\u001b[33m\n",
      "\u001b[0m"
     ]
    }
   ],
   "source": [
    "!pip install torch torchvision"
   ]
  },
  {
   "cell_type": "code",
   "execution_count": 3,
   "id": "17b0dc09-9bc7-461c-a417-ef88c8a8e06a",
   "metadata": {},
   "outputs": [],
   "source": [
    "# Also available at s3://waleed-movies\n",
    "#TODO: Read from s3 instead. Original files can be found at \n",
    "# https://www.kaggle.com/datasets/dadajonjurakuziev/movieposter\n",
    "# Delete the ._*.jpg files \n",
    "\n",
    "files_dir = \"/home/ec2-user/SageMaker/movie-recs/movie-posters\"\n",
    "\n",
    "import numpy as np\n",
    "import pandas as pd\n",
    "from io import BytesIO\n",
    "from PIL import Image\n",
    "import json\n",
    "import ray\n",
    "from ray.air.util.tensor_extensions.pandas import TensorArray\n",
    "from ray.train.torch import to_air_checkpoint, TorchPredictor\n",
    "from ray.train.batch_predictor import BatchPredictor\n",
    "\n",
    "from torchvision import transforms\n",
    "from torchvision.models.detection.ssd import ssd300_vgg16"
   ]
  },
  {
   "cell_type": "code",
   "execution_count": 5,
   "id": "ec402f2f-2211-47a9-8b9f-9494e66418e6",
   "metadata": {},
   "outputs": [
    {
     "name": "stdout",
     "output_type": "stream",
     "text": [
      "Usage stats collection is enabled by default for nightly wheels. To disable this, run the following command: `ray disable-usage-stats` before starting Ray. See https://docs.ray.io/en/master/cluster/usage-stats.html for more details.\n"
     ]
    },
    {
     "data": {
      "text/html": [
       "<div>\n",
       "    <div style=\"margin-left: 50px;display: flex;flex-direction: row;align-items: center\">\n",
       "        <h3 style=\"color: var(--jp-ui-font-color0)\">Ray</h3>\n",
       "        <svg version=\"1.1\" id=\"ray\" width=\"3em\" viewBox=\"0 0 144.5 144.6\" style=\"margin-left: 3em;margin-right: 3em\">\n",
       "            <g id=\"layer-1\">\n",
       "                <path fill=\"#00a2e9\" class=\"st0\" d=\"M97.3,77.2c-3.8-1.1-6.2,0.9-8.3,5.1c-3.5,6.8-9.9,9.9-17.4,9.6S58,88.1,54.8,81.2c-1.4-3-3-4-6.3-4.1\n",
       "                    c-5.6-0.1-9.9,0.1-13.1,6.4c-3.8,7.6-13.6,10.2-21.8,7.6C5.2,88.4-0.4,80.5,0,71.7c0.1-8.4,5.7-15.8,13.8-18.2\n",
       "                    c8.4-2.6,17.5,0.7,22.3,8c1.3,1.9,1.3,5.2,3.6,5.6c3.9,0.6,8,0.2,12,0.2c1.8,0,1.9-1.6,2.4-2.8c3.5-7.8,9.7-11.8,18-11.9\n",
       "                    c8.2-0.1,14.4,3.9,17.8,11.4c1.3,2.8,2.9,3.6,5.7,3.3c1-0.1,2,0.1,3,0c2.8-0.5,6.4,1.7,8.1-2.7s-2.3-5.5-4.1-7.5\n",
       "                    c-5.1-5.7-10.9-10.8-16.1-16.3C84,38,81.9,37.1,78,38.3C66.7,42,56.2,35.7,53,24.1C50.3,14,57.3,2.8,67.7,0.5\n",
       "                    C78.4-2,89,4.7,91.5,15.3c0.1,0.3,0.1,0.5,0.2,0.8c0.7,3.4,0.7,6.9-0.8,9.8c-1.7,3.2-0.8,5,1.5,7.2c6.7,6.5,13.3,13,19.8,19.7\n",
       "                    c1.8,1.8,3,2.1,5.5,1.2c9.1-3.4,17.9-0.6,23.4,7c4.8,6.9,4.6,16.1-0.4,22.9c-5.4,7.2-14.2,9.9-23.1,6.5c-2.3-0.9-3.5-0.6-5.1,1.1\n",
       "                    c-6.7,6.9-13.6,13.7-20.5,20.4c-1.8,1.8-2.5,3.2-1.4,5.9c3.5,8.7,0.3,18.6-7.7,23.6c-7.9,5-18.2,3.8-24.8-2.9\n",
       "                    c-6.4-6.4-7.4-16.2-2.5-24.3c4.9-7.8,14.5-11,23.1-7.8c3,1.1,4.7,0.5,6.9-1.7C91.7,98.4,98,92.3,104.2,86c1.6-1.6,4.1-2.7,2.6-6.2\n",
       "                    c-1.4-3.3-3.8-2.5-6.2-2.6C99.8,77.2,98.9,77.2,97.3,77.2z M72.1,29.7c5.5,0.1,9.9-4.3,10-9.8c0-0.1,0-0.2,0-0.3\n",
       "                    C81.8,14,77,9.8,71.5,10.2c-5,0.3-9,4.2-9.3,9.2c-0.2,5.5,4,10.1,9.5,10.3C71.8,29.7,72,29.7,72.1,29.7z M72.3,62.3\n",
       "                    c-5.4-0.1-9.9,4.2-10.1,9.7c0,0.2,0,0.3,0,0.5c0.2,5.4,4.5,9.7,9.9,10c5.1,0.1,9.9-4.7,10.1-9.8c0.2-5.5-4-10-9.5-10.3\n",
       "                    C72.6,62.3,72.4,62.3,72.3,62.3z M115,72.5c0.1,5.4,4.5,9.7,9.8,9.9c5.6-0.2,10-4.8,10-10.4c-0.2-5.4-4.6-9.7-10-9.7\n",
       "                    c-5.3-0.1-9.8,4.2-9.9,9.5C115,72.1,115,72.3,115,72.5z M19.5,62.3c-5.4,0.1-9.8,4.4-10,9.8c-0.1,5.1,5.2,10.4,10.2,10.3\n",
       "                    c5.6-0.2,10-4.9,9.8-10.5c-0.1-5.4-4.5-9.7-9.9-9.6C19.6,62.3,19.5,62.3,19.5,62.3z M71.8,134.6c5.9,0.2,10.3-3.9,10.4-9.6\n",
       "                    c0.5-5.5-3.6-10.4-9.1-10.8c-5.5-0.5-10.4,3.6-10.8,9.1c0,0.5,0,0.9,0,1.4c-0.2,5.3,4,9.8,9.3,10\n",
       "                    C71.6,134.6,71.7,134.6,71.8,134.6z\"/>\n",
       "            </g>\n",
       "        </svg>\n",
       "        <table>\n",
       "            <tr>\n",
       "                <td style=\"text-align: left\"><b>Python version:</b></td>\n",
       "                <td style=\"text-align: left\"><b>3.8.12</b></td>\n",
       "            </tr>\n",
       "            <tr>\n",
       "                <td style=\"text-align: left\"><b>Ray version:</b></td>\n",
       "                <td style=\"text-align: left\"><b> 3.0.0.dev0</b></td>\n",
       "            </tr>\n",
       "            \n",
       "        </table>\n",
       "    </div>\n",
       "</div>\n"
      ],
      "text/plain": [
       "RayContext(dashboard_url='', python_version='3.8.12', ray_version='3.0.0.dev0', ray_commit='445d2779733ffdba4188ccedadeacef7f50de720', address_info={'node_ip_address': '172.16.55.69', 'raylet_ip_address': '172.16.55.69', 'redis_address': None, 'object_store_address': '/tmp/ray/session_2022-07-20_00-00-08_644434_1067/sockets/plasma_store', 'raylet_socket_name': '/tmp/ray/session_2022-07-20_00-00-08_644434_1067/sockets/raylet', 'webui_url': '', 'session_dir': '/tmp/ray/session_2022-07-20_00-00-08_644434_1067', 'metrics_export_port': 60843, 'gcs_address': '172.16.55.69:44551', 'address': '172.16.55.69:44551', 'dashboard_agent_listen_port': 52365, 'node_id': '3c008007b8eeb29fae25631d4352e10f18825b7f299068e51b22f6c3'})"
      ]
     },
     "execution_count": 5,
     "metadata": {},
     "output_type": "execute_result"
    }
   ],
   "source": [
    "ray.init(object_store_memory=100*10**9, _system_config={\n",
    "        \"object_spilling_config\": json.dumps(\n",
    "            {\"type\": \"filesystem\", \"params\": {\"directory_path\": \"/home/ec2-user/SageMaker/object-spill\"}},\n",
    "        )\n",
    "    },\n",
    ")"
   ]
  },
  {
   "cell_type": "code",
   "execution_count": null,
   "id": "91d012b7-bee9-4a88-8c83-b5898450013c",
   "metadata": {},
   "outputs": [
    {
     "name": "stderr",
     "output_type": "stream",
     "text": [
      "Read->Map_Batches:   0%|          | 0/2000 [00:00<?, ?it/s]\u001b[2m\u001b[36m(_map_block_nosplit pid=3412)\u001b[0m 2022-07-20 00:00:20,085\tINFO worker.py:754 -- Task failed with retryable exception: TaskID(e0dc174c83599034ffffffffffffffffffffffff01000000).\n",
      "\u001b[2m\u001b[36m(_map_block_nosplit pid=3412)\u001b[0m Traceback (most recent call last):\n",
      "\u001b[2m\u001b[36m(_map_block_nosplit pid=3412)\u001b[0m   File \"python/ray/_raylet.pyx\", line 670, in ray._raylet.execute_task\n",
      "\u001b[2m\u001b[36m(_map_block_nosplit pid=3412)\u001b[0m   File \"python/ray/_raylet.pyx\", line 674, in ray._raylet.execute_task\n",
      "\u001b[2m\u001b[36m(_map_block_nosplit pid=3412)\u001b[0m   File \"/home/ec2-user/anaconda3/envs/pytorch_p38/lib/python3.8/site-packages/ray/data/_internal/compute.py\", line 441, in _map_block_nosplit\n",
      "\u001b[2m\u001b[36m(_map_block_nosplit pid=3412)\u001b[0m     for new_block in block_fn(block, *fn_args, **fn_kwargs):\n",
      "\u001b[2m\u001b[36m(_map_block_nosplit pid=3412)\u001b[0m   File \"/home/ec2-user/anaconda3/envs/pytorch_p38/lib/python3.8/site-packages/ray/data/_internal/plan.py\", line 605, in block_fn\n",
      "\u001b[2m\u001b[36m(_map_block_nosplit pid=3412)\u001b[0m     for tmp2 in block_fn2(tmp1, *self_fn_args, **self_fn_kwargs):\n",
      "\u001b[2m\u001b[36m(_map_block_nosplit pid=3412)\u001b[0m   File \"/home/ec2-user/anaconda3/envs/pytorch_p38/lib/python3.8/site-packages/ray/data/dataset.py\", line 453, in transform\n",
      "\u001b[2m\u001b[36m(_map_block_nosplit pid=3412)\u001b[0m     applied = batch_fn(view, *fn_args, **fn_kwargs)\n",
      "\u001b[2m\u001b[36m(_map_block_nosplit pid=3412)\u001b[0m   File \"/tmp/ipykernel_1067/2322415484.py\", line 8, in convert_to_pandas\n",
      "\u001b[2m\u001b[36m(_map_block_nosplit pid=3412)\u001b[0m   File \"/tmp/ipykernel_1067/2322415484.py\", line 8, in <listcomp>\n",
      "\u001b[2m\u001b[36m(_map_block_nosplit pid=3412)\u001b[0m   File \"/home/ec2-user/anaconda3/envs/pytorch_p38/lib/python3.8/site-packages/PIL/Image.py\", line 3008, in open\n",
      "\u001b[2m\u001b[36m(_map_block_nosplit pid=3412)\u001b[0m     raise UnidentifiedImageError(\n",
      "\u001b[2m\u001b[36m(_map_block_nosplit pid=3412)\u001b[0m PIL.UnidentifiedImageError: cannot identify image file <_io.BytesIO object at 0x7f02d99c3130>\n",
      "Read->Map_Batches:   7%|▋         | 149/2000 [00:26<06:05,  5.06it/s]\u001b[2m\u001b[36m(raylet)\u001b[0m Spilled 2336 MiB, 136 objects, write throughput 218 MiB/s. Set RAY_verbose_spill_logs=0 to disable this message.\n",
      "Read->Map_Batches:  10%|▉         | 197/2000 [00:37<07:25,  4.05it/s]\u001b[2m\u001b[36m(raylet)\u001b[0m Spilled 4413 MiB, 184 objects, write throughput 202 MiB/s.\n",
      "Read->Map_Batches:  13%|█▎        | 262/2000 [00:52<07:13,  4.01it/s]\u001b[2m\u001b[36m(raylet)\u001b[0m Spilled 10751 MiB, 2249 objects, write throughput 287 MiB/s.\n",
      "Read->Map_Batches:  22%|██▏       | 434/2000 [01:17<03:51,  6.77it/s]\u001b[2m\u001b[36m(raylet)\u001b[0m Spilled 16548 MiB, 2383 objects, write throughput 269 MiB/s.\n",
      "Read->Map_Batches:  28%|██▊       | 550/2000 [01:31<02:56,  8.24it/s]\u001b[2m\u001b[36m(_map_block_nosplit pid=3411)\u001b[0m 2022-07-20 00:01:49,424\tINFO worker.py:754 -- Task failed with retryable exception: TaskID(e0dc174c83599034ffffffffffffffffffffffff01000000).\n",
      "\u001b[2m\u001b[36m(_map_block_nosplit pid=3411)\u001b[0m Traceback (most recent call last):\n",
      "\u001b[2m\u001b[36m(_map_block_nosplit pid=3411)\u001b[0m   File \"python/ray/_raylet.pyx\", line 670, in ray._raylet.execute_task\n",
      "\u001b[2m\u001b[36m(_map_block_nosplit pid=3411)\u001b[0m   File \"python/ray/_raylet.pyx\", line 674, in ray._raylet.execute_task\n",
      "\u001b[2m\u001b[36m(_map_block_nosplit pid=3411)\u001b[0m   File \"/home/ec2-user/anaconda3/envs/pytorch_p38/lib/python3.8/site-packages/ray/data/_internal/compute.py\", line 441, in _map_block_nosplit\n",
      "\u001b[2m\u001b[36m(_map_block_nosplit pid=3411)\u001b[0m     for new_block in block_fn(block, *fn_args, **fn_kwargs):\n",
      "\u001b[2m\u001b[36m(_map_block_nosplit pid=3411)\u001b[0m   File \"/home/ec2-user/anaconda3/envs/pytorch_p38/lib/python3.8/site-packages/ray/data/_internal/plan.py\", line 605, in block_fn\n",
      "\u001b[2m\u001b[36m(_map_block_nosplit pid=3411)\u001b[0m     for tmp2 in block_fn2(tmp1, *self_fn_args, **self_fn_kwargs):\n",
      "\u001b[2m\u001b[36m(_map_block_nosplit pid=3411)\u001b[0m   File \"/home/ec2-user/anaconda3/envs/pytorch_p38/lib/python3.8/site-packages/ray/data/dataset.py\", line 453, in transform\n",
      "\u001b[2m\u001b[36m(_map_block_nosplit pid=3411)\u001b[0m     applied = batch_fn(view, *fn_args, **fn_kwargs)\n",
      "\u001b[2m\u001b[36m(_map_block_nosplit pid=3411)\u001b[0m   File \"/tmp/ipykernel_1067/2322415484.py\", line 8, in convert_to_pandas\n",
      "\u001b[2m\u001b[36m(_map_block_nosplit pid=3411)\u001b[0m   File \"/tmp/ipykernel_1067/2322415484.py\", line 8, in <listcomp>\n",
      "\u001b[2m\u001b[36m(_map_block_nosplit pid=3411)\u001b[0m   File \"/home/ec2-user/anaconda3/envs/pytorch_p38/lib/python3.8/site-packages/PIL/Image.py\", line 3008, in open\n",
      "\u001b[2m\u001b[36m(_map_block_nosplit pid=3411)\u001b[0m     raise UnidentifiedImageError(\n",
      "\u001b[2m\u001b[36m(_map_block_nosplit pid=3411)\u001b[0m PIL.UnidentifiedImageError: cannot identify image file <_io.BytesIO object at 0x7f81e81f0040>\n",
      "Read->Map_Batches:  43%|████▎     | 854/2000 [02:22<02:39,  7.17it/s]\u001b[2m\u001b[36m(raylet)\u001b[0m Spilled 32900 MiB, 2761 objects, write throughput 257 MiB/s.\n",
      "Read->Map_Batches:  45%|████▌     | 906/2000 [02:32<03:05,  5.90it/s]"
     ]
    }
   ],
   "source": [
    "def convert_to_pandas(byte_item_list):\n",
    "    preprocess = transforms.Compose([\n",
    "        transforms.Resize(300),\n",
    "        transforms.CenterCrop((300,600)),\n",
    "        transforms.ToTensor(),\n",
    "    ])\n",
    "\n",
    "    images = [Image.open(BytesIO(byte_item)).convert('RGB') for byte_item in byte_item_list]\n",
    "    images = [preprocess(image) for image in images]\n",
    "    images = [np.array(image) for image in images]\n",
    "\n",
    "    return pd.DataFrame({\"image\": TensorArray(images)})\n",
    "\n",
    "# What is parallelism magic number?\n",
    "dataset = ray.data.read_binary_files(paths=files_dir, parallelism=2000)\n",
    "dataset = dataset.map_batches(convert_to_pandas)\n",
    "\n",
    "#TODO: show a visualization of one of these images"
   ]
  },
  {
   "cell_type": "code",
   "execution_count": null,
   "id": "e5bd3a1d-7c25-4c3b-8f78-b4a0c84c0746",
   "metadata": {},
   "outputs": [],
   "source": [
    "model = ssd300_vgg16(pretrained=True)"
   ]
  },
  {
   "cell_type": "code",
   "execution_count": null,
   "id": "fedf25f4-2033-43ac-b093-10854fd02436",
   "metadata": {},
   "outputs": [
    {
     "ename": "NameError",
     "evalue": "name 'to_air_checkpoint' is not defined",
     "output_type": "error",
     "traceback": [
      "\u001b[0;31m---------------------------------------------------------------------------\u001b[0m",
      "\u001b[0;31mNameError\u001b[0m                                 Traceback (most recent call last)",
      "\u001b[0;32m/tmp/ipykernel_26756/842312678.py\u001b[0m in \u001b[0;36m<cell line: 2>\u001b[0;34m()\u001b[0m\n\u001b[1;32m      1\u001b[0m \u001b[0;31m# # TODO: to_air_checkpoint should accept a model or a model state dict\u001b[0m\u001b[0;34m\u001b[0m\u001b[0;34m\u001b[0m\u001b[0;34m\u001b[0m\u001b[0m\n\u001b[0;32m----> 2\u001b[0;31m \u001b[0mckpt\u001b[0m \u001b[0;34m=\u001b[0m \u001b[0mto_air_checkpoint\u001b[0m\u001b[0;34m(\u001b[0m\u001b[0mmodel\u001b[0m\u001b[0;34m=\u001b[0m\u001b[0mmodel\u001b[0m\u001b[0;34m)\u001b[0m\u001b[0;34m\u001b[0m\u001b[0;34m\u001b[0m\u001b[0m\n\u001b[0m\u001b[1;32m      3\u001b[0m \u001b[0;34m\u001b[0m\u001b[0m\n\u001b[1;32m      4\u001b[0m \u001b[0mpredictor\u001b[0m \u001b[0;34m=\u001b[0m \u001b[0mBatchPredictor\u001b[0m\u001b[0;34m.\u001b[0m\u001b[0mfrom_checkpoint\u001b[0m\u001b[0;34m(\u001b[0m\u001b[0mckpt\u001b[0m\u001b[0;34m,\u001b[0m \u001b[0mTorchPredictor\u001b[0m\u001b[0;34m)\u001b[0m\u001b[0;34m\u001b[0m\u001b[0;34m\u001b[0m\u001b[0m\n\u001b[1;32m      5\u001b[0m \u001b[0mresults\u001b[0m \u001b[0;34m=\u001b[0m \u001b[0mpredictor\u001b[0m\u001b[0;34m.\u001b[0m\u001b[0mpredict\u001b[0m\u001b[0;34m(\u001b[0m\u001b[0mdataset\u001b[0m\u001b[0;34m,\u001b[0m \u001b[0mnum_gpus_per_worker\u001b[0m\u001b[0;34m=\u001b[0m\u001b[0;36m1\u001b[0m\u001b[0;34m)\u001b[0m\u001b[0;34m\u001b[0m\u001b[0;34m\u001b[0m\u001b[0m\n",
      "\u001b[0;31mNameError\u001b[0m: name 'to_air_checkpoint' is not defined"
     ]
    }
   ],
   "source": [
    "# TODO: to_air_checkpoint should accept a model or a model state dict\n",
    "ckpt = to_air_checkpoint(model=model)\n",
    "\n",
    "predictor = BatchPredictor.from_checkpoint(ckpt, TorchPredictor)\n",
    "results = predictor.predict(dataset, num_gpus_per_worker=1)\n",
    "\n",
    "#TODO: visualize the images with the labels. \n",
    "\n"
   ]
  }
 ],
 "metadata": {
  "kernelspec": {
   "display_name": "conda_pytorch_p38",
   "language": "python",
   "name": "conda_pytorch_p38"
  },
  "language_info": {
   "codemirror_mode": {
    "name": "ipython",
    "version": 3
   },
   "file_extension": ".py",
   "mimetype": "text/x-python",
   "name": "python",
   "nbconvert_exporter": "python",
   "pygments_lexer": "ipython3",
   "version": "3.8.12"
  }
 },
 "nbformat": 4,
 "nbformat_minor": 5
}
